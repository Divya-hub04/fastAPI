{
 "cells": [
  {
   "cell_type": "code",
   "execution_count": null,
   "id": "e9741007",
   "metadata": {},
   "outputs": [],
   "source": [
    "%pip install fastapi uvicorn nest_asyncio pyngrok"
   ]
  },
  {
   "cell_type": "code",
   "execution_count": 2,
   "id": "a1428f72",
   "metadata": {},
   "outputs": [],
   "source": [
    "from pyngrok import ngrok\n",
    "\n",
    "# Replace \"YOUR_NGROK_AUTH_TOKEN\" with the actual token you copied\n",
    "ngrok.set_auth_token(\"\")\n"
   ]
  },
  {
   "cell_type": "code",
   "execution_count": 3,
   "id": "235d08e8",
   "metadata": {},
   "outputs": [],
   "source": [
    "from fastapi import FastAPI, Query\n",
    "from enum import Enum\n",
    "from typing import Optional, List\n",
    "\n",
    "app = FastAPI()\n",
    "\n",
    "@app.get(\"/\")\n",
    "async def read_root():\n",
    "    return {\"message\": \"Hello, Gitpod World!\"}\n",
    "\n",
    "@app.get(\"/items/{item_id}\")\n",
    "async def read_item(item_id: int):\n",
    "    return {\"item_id\": item_id}\n",
    "\n",
    "@app.get(\"/users/{user_id}/items/{item_id}\")\n",
    "async def read_user_item(user_id: int, item_id: str):\n",
    "    return {\"user_id\": user_id, \"item_id\": item_id}\n",
    "\n",
    "class ModelName(str, Enum):\n",
    "    alexnet = \"alexnet\"\n",
    "    resnet = \"resnet\"\n",
    "    lenet = \"lenet\"\n",
    "\n",
    "@app.get(\"/models/{model_name}\")\n",
    "async def get_model(model_name: ModelName):\n",
    "    if model_name is ModelName.alexnet:\n",
    "        return {\"model_name\": model_name, \"message\": \"Deep Learning FTW!\"}\n",
    "    elif model_name is ModelName.lenet:\n",
    "        return {\"model_name\": model_name, \"message\": \"LeNet is a Classic!\"}\n",
    "    return {\"model_name\": model_name, \"message\": \"Have some residuals\"}\n",
    "\n",
    "@app.get(\"/items/\")\n",
    "async def read_items(skip: int = 0, limit: int = 10):\n",
    "    return {\"skip\": skip, \"limit\": limit}\n",
    "\n",
    "@app.get(\"/search/\")\n",
    "async def search_items(query: str):\n",
    "    return {\"query\": query, \"results\": f\"Searching for '{query}'...\"}\n",
    "\n",
    "@app.get(\"/items/{item_id}/details\")\n",
    "async def read_item_details(item_id: int, q: Optional[str] = None):\n",
    "    results = {\"item_id\": item_id}\n",
    "    if q:\n",
    "        results.update({\"q\": q})\n",
    "    return results\n",
    "\n",
    "@app.get(\"/products/\")\n",
    "async def read_products(tags: Optional[List[str]] = Query(None)):\n",
    "    return {\"tags\": tags}"
   ]
  },
  {
   "cell_type": "code",
   "execution_count": null,
   "id": "b8a08c03",
   "metadata": {},
   "outputs": [],
   "source": [
    "import nest_asyncio\n",
    "import uvicorn\n",
    "from pyngrok import ngrok\n",
    "from pyngrok import conf \n",
    "# Apply the patch to allow Uvicorn to run inside the existing event loop\n",
    "nest_asyncio.apply()\n",
    "conf.get_default().ngrok_path =\"/home/gitpod/.config/ngrok/ngrok\"\n",
    "# Start ngrok tunnel - it will expose port 8000\n",
    "ngrok_tunnel = ngrok.connect(8000)\n",
    "print('Public URL:', ngrok_tunnel.public_url)\n",
    "\n",
    "# Run Uvicorn (blocking call, so it will run until you stop the cell)\n",
    "# The `port=8000` here should match the port you connect ngrok to.\n",
    "uvicorn.run(app, port=8000)\n"
   ]
  },
  {
   "cell_type": "code",
   "execution_count": 5,
   "id": "c0000fff",
   "metadata": {},
   "outputs": [
    {
     "name": "stdout",
     "output_type": "stream",
     "text": [
      "/home/gitpod/.config/ngrok/ngrok\n"
     ]
    }
   ],
   "source": [
    "import pyngrok.conf\n",
    "print(pyngrok.conf.get_default().ngrok_path)"
   ]
  }
 ],
 "metadata": {
  "kernelspec": {
   "display_name": "Python 3",
   "language": "python",
   "name": "python3"
  },
  "language_info": {
   "codemirror_mode": {
    "name": "ipython",
    "version": 3
   },
   "file_extension": ".py",
   "mimetype": "text/x-python",
   "name": "python",
   "nbconvert_exporter": "python",
   "pygments_lexer": "ipython3",
   "version": "3.12.11"
  }
 },
 "nbformat": 4,
 "nbformat_minor": 5
}
